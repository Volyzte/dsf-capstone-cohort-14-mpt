{
 "cells": [
  {
   "cell_type": "markdown",
   "id": "4f22c2d4",
   "metadata": {},
   "source": [
    "# Portfolio Optimization\n",
    "Prepared by: `Kuhgi Jotojot`"
   ]
  },
  {
   "cell_type": "markdown",
   "id": "304edcc4",
   "metadata": {
    "vscode": {
     "languageId": "plaintext"
    }
   },
   "source": [
    "## 1. Libraries Needed / Prerequisite"
   ]
  },
  {
   "cell_type": "code",
   "execution_count": 2,
   "id": "bc5f488c",
   "metadata": {},
   "outputs": [],
   "source": [
    "# Essentials\n",
    "import numpy as np\n",
    "import pandas as pd\n",
    "\n",
    "# Optimization\n",
    "from scipy import optimize"
   ]
  },
  {
   "cell_type": "code",
   "execution_count": 78,
   "id": "0e27ca0a",
   "metadata": {},
   "outputs": [],
   "source": [
    "# Some helper functions\n",
    "\n",
    "# The 'vol' here in this case is the standard deviation of the portfolio\n",
    "def get_ret_vol_sr(weights):\n",
    "    weights = np.array(weights)\n",
    "    ret = log_mean.dot(weights)\n",
    "    vol = np.sqrt(weights.T.dot(cov.dot(weights)))\n",
    "    sr = ret / vol\n",
    "    return np.array([ret, vol, sr])\n",
    "\n",
    "# Negate Sharpe ratio as we need to max it but Scipy minimize the given function\n",
    "def neg_sr(weights):\n",
    "    return get_ret_vol_sr(weights)[-1] * -1\n",
    "\n",
    "def get_vol(weights):\n",
    "    return get_ret_vol_sr(weights)[1]\n",
    "\n",
    "# check sum of weights \n",
    "def check_sum(weights):\n",
    "    return np.sum(weights) - 1\n",
    "\n",
    "# Constraints for the optimization problem\n",
    "cons = {'type':'eq','fun':check_sum}\n",
    "# bounds on weights\n",
    "bounds = ((0,1),(0,1),(0,1),(0,1),(0,1))\n",
    "# initial guess for optimization to start with\n",
    "init_guess = [.25 for _ in range(5)]\n"
   ]
  },
  {
   "cell_type": "markdown",
   "id": "4b0e9b2e",
   "metadata": {},
   "source": [
    "## 2. Loading Data"
   ]
  },
  {
   "cell_type": "code",
   "execution_count": 18,
   "id": "1d677a6b",
   "metadata": {},
   "outputs": [],
   "source": [
    "file_path = 'data/pse_close_combined.csv'\n",
    "\n",
    "init_df = pd.read_csv(file_path, parse_dates=['time'])\n",
    "init_df.set_index('time', inplace=True)\n",
    "\n",
    "init_df = init_df[\n",
    "    (init_df.index >= '2021-06-01') & \n",
    "    (init_df.index <= '2024-12-31')\n",
    "]\n",
    "init_df.sort_index(inplace=True)"
   ]
  },
  {
   "cell_type": "code",
   "execution_count": 19,
   "id": "4cb8d4d7",
   "metadata": {},
   "outputs": [],
   "source": [
    "# Listing all portfolios formed\n",
    "\n",
    "# Minimum standard deviation\n",
    "portfolio_0 = ['TEL','ACEN','LTG','BLOOM','DMC']\n",
    "\n",
    "# Maximumn Sharpe Ratio \n",
    "portfolio_1 = ['TEL','SCC','SMC','GTCAP','JFC']\n",
    "\n",
    "# Maximum Annual Returns\n",
    "portfolio_2 = ['GLO','SCC','SM','GTCAP','MER']\n",
    "\n",
    "# Random stock from each cluster\n",
    "portfolio_3 = ['GLO','ACEN','AREIT','MONDE','DMC']"
   ]
  },
  {
   "cell_type": "markdown",
   "id": "16302e91",
   "metadata": {},
   "source": [
    "## 3. Portfolio 0 Optimization"
   ]
  },
  {
   "cell_type": "markdown",
   "id": "11bb27b4",
   "metadata": {},
   "source": [
    "### Maximize Sharpe Ratio"
   ]
  },
  {
   "cell_type": "code",
   "execution_count": 108,
   "id": "26d0b5b9",
   "metadata": {},
   "outputs": [],
   "source": [
    "df = init_df.copy()\n",
    "df = df[portfolio_0]"
   ]
  },
  {
   "cell_type": "code",
   "execution_count": 109,
   "id": "1f7cedbf",
   "metadata": {},
   "outputs": [],
   "source": [
    "log_ret = np.log(df / df.shift(1))\n",
    "log_mean = log_ret.mean() * 252\n",
    "cov = log_ret.cov() * 252"
   ]
  },
  {
   "cell_type": "code",
   "execution_count": 110,
   "id": "91ea3f84",
   "metadata": {},
   "outputs": [],
   "source": [
    "# Call minimizer\n",
    "opt_results = optimize.minimize(neg_sr, init_guess, constraints=cons, bounds=bounds, method='SLSQP')"
   ]
  },
  {
   "cell_type": "code",
   "execution_count": 111,
   "id": "e2520615",
   "metadata": {},
   "outputs": [
    {
     "name": "stdout",
     "output_type": "stream",
     "text": [
      "To maximize the Sharpe Ratio of Portfolio 0\n",
      "\n",
      "\n",
      "Stock TEL has weight 2.44 %\n",
      "Stock ACEN has weight 0.0 %\n",
      "Stock LTG has weight 7.69 %\n",
      "Stock BLOOM has weight 0.0 %\n",
      "Stock DMC has weight 89.87 %\n"
     ]
    }
   ],
   "source": [
    "optimal_weights = opt_results.x\n",
    "stocks = df.columns.to_list()\n",
    "\n",
    "print(f\"To maximize the Sharpe Ratio of Portfolio 0\")\n",
    "print('\\n')\n",
    "for st, i in zip(stocks,optimal_weights):\n",
    "    print(f'Stock {st} has weight {np.round(i*100,2)} %')"
   ]
  },
  {
   "cell_type": "code",
   "execution_count": 113,
   "id": "1b276285",
   "metadata": {},
   "outputs": [
    {
     "name": "stdout",
     "output_type": "stream",
     "text": [
      "If we maximize the Sharpe Ratio of Portfolio 0 \n",
      " \n",
      "\n",
      "Return is : 0.28321975451126474\n",
      "\n",
      "Volatility is : 0.28948003865385125\n",
      "\n",
      "Sharpe_Ratio is : 0.9783740385979695\n",
      "\n"
     ]
    }
   ],
   "source": [
    "get_ret_vol_sr(optimal_weights)\n",
    "\n",
    "print('If we maximize the Sharpe Ratio of Portfolio 0 \\n \\n')\n",
    "for i, j in enumerate('Return Volatility Sharpe_Ratio'.split()):\n",
    "    print(f'{j} is : {get_ret_vol_sr(optimal_weights)[i]}\\n')"
   ]
  },
  {
   "cell_type": "markdown",
   "id": "d63674c8",
   "metadata": {},
   "source": [
    "### Minimize Standard Deviation"
   ]
  },
  {
   "cell_type": "code",
   "execution_count": 114,
   "id": "0e0f756f",
   "metadata": {},
   "outputs": [],
   "source": [
    "# Call minimizer\n",
    "opt_results = optimize.minimize(get_vol, init_guess, constraints=cons, bounds=bounds, method='SLSQP')"
   ]
  },
  {
   "cell_type": "code",
   "execution_count": 115,
   "id": "8c670342",
   "metadata": {},
   "outputs": [
    {
     "name": "stdout",
     "output_type": "stream",
     "text": [
      "To minimize the standard deviation of Portfolio 0\n",
      "\n",
      "\n",
      "Stock TEL has weight 15.36 %\n",
      "Stock ACEN has weight 9.18 %\n",
      "Stock LTG has weight 46.35 %\n",
      "Stock BLOOM has weight 10.3 %\n",
      "Stock DMC has weight 18.81 %\n"
     ]
    }
   ],
   "source": [
    "optimal_weights = opt_results.x\n",
    "stocks = df.columns.to_list()\n",
    "\n",
    "print(f\"To minimize the standard deviation of Portfolio 0\")\n",
    "print('\\n')\n",
    "for st, i in zip(stocks,optimal_weights):\n",
    "    print(f'Stock {st} has weight {np.round(i*100,2)} %')"
   ]
  },
  {
   "cell_type": "code",
   "execution_count": 116,
   "id": "fc919261",
   "metadata": {},
   "outputs": [
    {
     "name": "stdout",
     "output_type": "stream",
     "text": [
      "If we minimize the standard deviation of Portfolio 0 \n",
      " \n",
      "\n",
      "Return is : 0.06844391263074498\n",
      "\n",
      "Volatility is : 0.1766801912450005\n",
      "\n",
      "Sharpe_Ratio is : 0.3873887171416661\n",
      "\n"
     ]
    }
   ],
   "source": [
    "get_ret_vol_sr(optimal_weights)\n",
    "\n",
    "print('If we minimize the standard deviation of Portfolio 0 \\n \\n')\n",
    "for i, j in enumerate('Return Volatility Sharpe_Ratio'.split()):\n",
    "    print(f'{j} is : {get_ret_vol_sr(optimal_weights)[i]}\\n')"
   ]
  },
  {
   "cell_type": "markdown",
   "id": "1717f0a7",
   "metadata": {},
   "source": [
    "## 4. Portfolio 1 Optimization"
   ]
  },
  {
   "cell_type": "code",
   "execution_count": 131,
   "id": "4d2bae9a",
   "metadata": {},
   "outputs": [],
   "source": [
    "df = init_df.copy()\n",
    "df = df[portfolio_1]"
   ]
  },
  {
   "cell_type": "code",
   "execution_count": 132,
   "id": "c9c73e6f",
   "metadata": {},
   "outputs": [],
   "source": [
    "log_ret = np.log(df / df.shift(1))\n",
    "log_mean = log_ret.mean() * 252\n",
    "cov = log_ret.cov() * 252"
   ]
  },
  {
   "cell_type": "markdown",
   "id": "458b648c",
   "metadata": {},
   "source": [
    "### Maximize Sharpe Ratio"
   ]
  },
  {
   "cell_type": "code",
   "execution_count": 133,
   "id": "2e7fe3df",
   "metadata": {},
   "outputs": [],
   "source": [
    "# Call minimizer\n",
    "opt_results = optimize.minimize(neg_sr, init_guess, constraints=cons, bounds=bounds, method='SLSQP')"
   ]
  },
  {
   "cell_type": "code",
   "execution_count": 134,
   "id": "38009a12",
   "metadata": {},
   "outputs": [
    {
     "name": "stdout",
     "output_type": "stream",
     "text": [
      "To maximize the Sharpe Ratio of Portfolio 1\n",
      "\n",
      "\n",
      "Stock TEL has weight 0.0 %\n",
      "Stock SCC has weight 87.06 %\n",
      "Stock SMC has weight 0.0 %\n",
      "Stock GTCAP has weight 0.0 %\n",
      "Stock JFC has weight 12.94 %\n"
     ]
    }
   ],
   "source": [
    "optimal_weights = opt_results.x\n",
    "stocks = df.columns.to_list()\n",
    "\n",
    "print(f\"To maximize the Sharpe Ratio of Portfolio 1\")\n",
    "print('\\n')\n",
    "for st, i in zip(stocks,optimal_weights):\n",
    "    print(f'Stock {st} has weight {np.round(i*100,2)} %')"
   ]
  },
  {
   "cell_type": "code",
   "execution_count": 135,
   "id": "fab54039",
   "metadata": {},
   "outputs": [
    {
     "name": "stdout",
     "output_type": "stream",
     "text": [
      "If we maximize the Sharpe Ratio of Portfolio 1 \n",
      " \n",
      "\n",
      "Return is : 0.4051725354173016\n",
      "\n",
      "Volatility is : 0.30580497633157283\n",
      "\n",
      "Sharpe_Ratio is : 1.3249376785091562\n",
      "\n"
     ]
    }
   ],
   "source": [
    "get_ret_vol_sr(optimal_weights)\n",
    "\n",
    "print('If we maximize the Sharpe Ratio of Portfolio 1 \\n \\n')\n",
    "for i, j in enumerate('Return Volatility Sharpe_Ratio'.split()):\n",
    "    print(f'{j} is : {get_ret_vol_sr(optimal_weights)[i]}\\n')"
   ]
  },
  {
   "cell_type": "markdown",
   "id": "69e2b56b",
   "metadata": {},
   "source": [
    "### Minimize Standard Deviation"
   ]
  },
  {
   "cell_type": "code",
   "execution_count": 128,
   "id": "27b61522",
   "metadata": {},
   "outputs": [],
   "source": [
    "# Call minimizer\n",
    "opt_results = optimize.minimize(get_vol, init_guess, constraints=cons, bounds=bounds, method='SLSQP')"
   ]
  },
  {
   "cell_type": "code",
   "execution_count": 129,
   "id": "187d2977",
   "metadata": {},
   "outputs": [
    {
     "name": "stdout",
     "output_type": "stream",
     "text": [
      "To minimize the standard deviation of Portfolio 1\n",
      "\n",
      "\n",
      "Stock TEL has weight 16.2 %\n",
      "Stock SCC has weight 15.08 %\n",
      "Stock SMC has weight 36.96 %\n",
      "Stock GTCAP has weight 12.25 %\n",
      "Stock JFC has weight 19.51 %\n"
     ]
    }
   ],
   "source": [
    "optimal_weights = opt_results.x\n",
    "stocks = df.columns.to_list()\n",
    "\n",
    "print(f\"To minimize the standard deviation of Portfolio 1\")\n",
    "print('\\n')\n",
    "for st, i in zip(stocks,optimal_weights):\n",
    "    print(f'Stock {st} has weight {np.round(i*100,2)} %')"
   ]
  },
  {
   "cell_type": "code",
   "execution_count": 130,
   "id": "be118dce",
   "metadata": {},
   "outputs": [
    {
     "name": "stdout",
     "output_type": "stream",
     "text": [
      "If we minimize the standard deviation of Portfolio 1 \n",
      " \n",
      "\n",
      "Return is : 0.07871856067966398\n",
      "\n",
      "Volatility is : 0.1667349091144011\n",
      "\n",
      "Sharpe_Ratio is : 0.4721180531285933\n",
      "\n"
     ]
    }
   ],
   "source": [
    "get_ret_vol_sr(optimal_weights)\n",
    "\n",
    "print('If we minimize the standard deviation of Portfolio 1 \\n \\n')\n",
    "for i, j in enumerate('Return Volatility Sharpe_Ratio'.split()):\n",
    "    print(f'{j} is : {get_ret_vol_sr(optimal_weights)[i]}\\n')"
   ]
  },
  {
   "cell_type": "markdown",
   "id": "4c07b856",
   "metadata": {},
   "source": [
    "## 5. Portfolio 2 Optimization"
   ]
  },
  {
   "cell_type": "code",
   "execution_count": 136,
   "id": "72365a6c",
   "metadata": {},
   "outputs": [],
   "source": [
    "df = init_df.copy()\n",
    "df = df[portfolio_2]"
   ]
  },
  {
   "cell_type": "code",
   "execution_count": 137,
   "id": "8f85f173",
   "metadata": {},
   "outputs": [],
   "source": [
    "log_ret = np.log(df / df.shift(1))\n",
    "log_mean = log_ret.mean() * 252\n",
    "cov = log_ret.cov() * 252"
   ]
  },
  {
   "cell_type": "markdown",
   "id": "b24bb067",
   "metadata": {},
   "source": [
    "### Maximize Sharpe Ratio"
   ]
  },
  {
   "cell_type": "code",
   "execution_count": 138,
   "id": "062e476c",
   "metadata": {},
   "outputs": [],
   "source": [
    "# Call minimizer\n",
    "opt_results = optimize.minimize(neg_sr, init_guess, constraints=cons, bounds=bounds, method='SLSQP')"
   ]
  },
  {
   "cell_type": "code",
   "execution_count": 139,
   "id": "d0629660",
   "metadata": {},
   "outputs": [
    {
     "name": "stdout",
     "output_type": "stream",
     "text": [
      "To maximize the Sharpe Ratio of Portfolio 2\n",
      "\n",
      "\n",
      "Stock GLO has weight 1.29 %\n",
      "Stock SCC has weight 62.86 %\n",
      "Stock SM has weight 0.0 %\n",
      "Stock GTCAP has weight 0.0 %\n",
      "Stock MER has weight 35.85 %\n"
     ]
    }
   ],
   "source": [
    "optimal_weights = opt_results.x\n",
    "stocks = df.columns.to_list()\n",
    "\n",
    "print(f\"To maximize the Sharpe Ratio of Portfolio 2\")\n",
    "print('\\n')\n",
    "for st, i in zip(stocks,optimal_weights):\n",
    "    print(f'Stock {st} has weight {np.round(i*100,2)} %')"
   ]
  },
  {
   "cell_type": "code",
   "execution_count": 140,
   "id": "4bbf1374",
   "metadata": {},
   "outputs": [
    {
     "name": "stdout",
     "output_type": "stream",
     "text": [
      "If we maximize the Sharpe Ratio of Portfolio 2 \n",
      " \n",
      "\n",
      "Return is : 0.35909229989943897\n",
      "\n",
      "Volatility is : 0.24849019866695113\n",
      "\n",
      "Sharpe_Ratio is : 1.4450964336856067\n",
      "\n"
     ]
    }
   ],
   "source": [
    "get_ret_vol_sr(optimal_weights)\n",
    "\n",
    "print('If we maximize the Sharpe Ratio of Portfolio 2 \\n \\n')\n",
    "for i, j in enumerate('Return Volatility Sharpe_Ratio'.split()):\n",
    "    print(f'{j} is : {get_ret_vol_sr(optimal_weights)[i]}\\n')"
   ]
  },
  {
   "cell_type": "markdown",
   "id": "c832acb9",
   "metadata": {},
   "source": [
    "### Minimize Standard Deviation"
   ]
  },
  {
   "cell_type": "code",
   "execution_count": 143,
   "id": "693d9e9d",
   "metadata": {},
   "outputs": [],
   "source": [
    "# Call minimizer\n",
    "opt_results = optimize.minimize(get_vol, init_guess, constraints=cons, bounds=bounds, method='SLSQP')"
   ]
  },
  {
   "cell_type": "code",
   "execution_count": 144,
   "id": "1ebb0f9e",
   "metadata": {},
   "outputs": [
    {
     "name": "stdout",
     "output_type": "stream",
     "text": [
      "To minimize the standard deviation of Portfolio 2\n",
      "\n",
      "\n",
      "Stock GLO has weight 17.08 %\n",
      "Stock SCC has weight 19.36 %\n",
      "Stock SM has weight 21.36 %\n",
      "Stock GTCAP has weight 15.2 %\n",
      "Stock MER has weight 27.0 %\n"
     ]
    }
   ],
   "source": [
    "optimal_weights = opt_results.x\n",
    "stocks = df.columns.to_list()\n",
    "\n",
    "print(f\"To minimize the standard deviation of Portfolio 2\")\n",
    "print('\\n')\n",
    "for st, i in zip(stocks,optimal_weights):\n",
    "    print(f'Stock {st} has weight {np.round(i*100,2)} %')"
   ]
  },
  {
   "cell_type": "code",
   "execution_count": 145,
   "id": "85c22cbc",
   "metadata": {},
   "outputs": [
    {
     "name": "stdout",
     "output_type": "stream",
     "text": [
      "If we minimize the standard deviation of Portfolio 2 \n",
      " \n",
      "\n",
      "Return is : 0.16528399930830806\n",
      "\n",
      "Volatility is : 0.18476798446586848\n",
      "\n",
      "Sharpe_Ratio is : 0.8945489110903863\n",
      "\n"
     ]
    }
   ],
   "source": [
    "get_ret_vol_sr(optimal_weights)\n",
    "\n",
    "print('If we minimize the standard deviation of Portfolio 2 \\n \\n')\n",
    "for i, j in enumerate('Return Volatility Sharpe_Ratio'.split()):\n",
    "    print(f'{j} is : {get_ret_vol_sr(optimal_weights)[i]}\\n')"
   ]
  },
  {
   "cell_type": "markdown",
   "id": "8918cae4",
   "metadata": {},
   "source": [
    "## 6. Portfolio 3 Optimization"
   ]
  },
  {
   "cell_type": "code",
   "execution_count": 146,
   "id": "ec144e80",
   "metadata": {},
   "outputs": [],
   "source": [
    "df = init_df.copy()\n",
    "df = df[portfolio_3]"
   ]
  },
  {
   "cell_type": "code",
   "execution_count": 147,
   "id": "c375373f",
   "metadata": {},
   "outputs": [],
   "source": [
    "log_ret = np.log(df / df.shift(1))\n",
    "log_mean = log_ret.mean() * 252\n",
    "cov = log_ret.cov() * 252"
   ]
  },
  {
   "cell_type": "markdown",
   "id": "9091f6fd",
   "metadata": {},
   "source": [
    "### Maximize Sharpe Ratio"
   ]
  },
  {
   "cell_type": "code",
   "execution_count": 148,
   "id": "4ae101b1",
   "metadata": {},
   "outputs": [],
   "source": [
    "# Call minimizer\n",
    "opt_results = optimize.minimize(neg_sr, init_guess, constraints=cons, bounds=bounds, method='SLSQP')"
   ]
  },
  {
   "cell_type": "code",
   "execution_count": 149,
   "id": "5504b91e",
   "metadata": {},
   "outputs": [
    {
     "name": "stdout",
     "output_type": "stream",
     "text": [
      "To maximize the Sharpe Ratio of Portfolio 3\n",
      "\n",
      "\n",
      "Stock GLO has weight 6.05 %\n",
      "Stock ACEN has weight 0.0 %\n",
      "Stock AREIT has weight 18.24 %\n",
      "Stock MONDE has weight 0.0 %\n",
      "Stock DMC has weight 75.71 %\n"
     ]
    }
   ],
   "source": [
    "optimal_weights = opt_results.x\n",
    "stocks = df.columns.to_list()\n",
    "\n",
    "print(f\"To maximize the Sharpe Ratio of Portfolio 3\")\n",
    "print('\\n')\n",
    "for st, i in zip(stocks,optimal_weights):\n",
    "    print(f'Stock {st} has weight {np.round(i*100,2)} %')"
   ]
  },
  {
   "cell_type": "code",
   "execution_count": 150,
   "id": "f2052097",
   "metadata": {},
   "outputs": [
    {
     "name": "stdout",
     "output_type": "stream",
     "text": [
      "If we maximize the Sharpe Ratio of Portfolio 3 \n",
      " \n",
      "\n",
      "Return is : 0.2534400833475798\n",
      "\n",
      "Volatility is : 0.2536588480627348\n",
      "\n",
      "Sharpe_Ratio is : 0.9991375632396591\n",
      "\n"
     ]
    }
   ],
   "source": [
    "get_ret_vol_sr(optimal_weights)\n",
    "\n",
    "print('If we maximize the Sharpe Ratio of Portfolio 3 \\n \\n')\n",
    "for i, j in enumerate('Return Volatility Sharpe_Ratio'.split()):\n",
    "    print(f'{j} is : {get_ret_vol_sr(optimal_weights)[i]}\\n')"
   ]
  },
  {
   "cell_type": "markdown",
   "id": "97bb7f03",
   "metadata": {},
   "source": [
    "### Minimize Standard Deviation"
   ]
  },
  {
   "cell_type": "code",
   "execution_count": 151,
   "id": "80ec26bd",
   "metadata": {},
   "outputs": [],
   "source": [
    "# Call minimizer\n",
    "opt_results = optimize.minimize(get_vol, init_guess, constraints=cons, bounds=bounds, method='SLSQP')"
   ]
  },
  {
   "cell_type": "code",
   "execution_count": 152,
   "id": "faffc558",
   "metadata": {},
   "outputs": [
    {
     "name": "stdout",
     "output_type": "stream",
     "text": [
      "To minimize the standard deviation of Portfolio 3\n",
      "\n",
      "\n",
      "Stock GLO has weight 17.79 %\n",
      "Stock ACEN has weight 6.7 %\n",
      "Stock AREIT has weight 40.13 %\n",
      "Stock MONDE has weight 10.75 %\n",
      "Stock DMC has weight 24.63 %\n"
     ]
    }
   ],
   "source": [
    "optimal_weights = opt_results.x\n",
    "stocks = df.columns.to_list()\n",
    "\n",
    "print(f\"To minimize the standard deviation of Portfolio 3\")\n",
    "print('\\n')\n",
    "for st, i in zip(stocks,optimal_weights):\n",
    "    print(f'Stock {st} has weight {np.round(i*100,2)} %')"
   ]
  },
  {
   "cell_type": "code",
   "execution_count": 153,
   "id": "dd4801f9",
   "metadata": {},
   "outputs": [
    {
     "name": "stdout",
     "output_type": "stream",
     "text": [
      "If we maximize the Sharpe Ratio of Portfolio 3 \n",
      " \n",
      "\n",
      "Return is : 0.10096738794530538\n",
      "\n",
      "Volatility is : 0.18594934105944527\n",
      "\n",
      "Sharpe_Ratio is : 0.5429833059372208\n",
      "\n"
     ]
    }
   ],
   "source": [
    "get_ret_vol_sr(optimal_weights)\n",
    "\n",
    "print('If we maximize the Sharpe Ratio of Portfolio 3 \\n \\n')\n",
    "for i, j in enumerate('Return Volatility Sharpe_Ratio'.split()):\n",
    "    print(f'{j} is : {get_ret_vol_sr(optimal_weights)[i]}\\n')"
   ]
  }
 ],
 "metadata": {
  "kernelspec": {
   "display_name": ".venv",
   "language": "python",
   "name": "python3"
  },
  "language_info": {
   "codemirror_mode": {
    "name": "ipython",
    "version": 3
   },
   "file_extension": ".py",
   "mimetype": "text/x-python",
   "name": "python",
   "nbconvert_exporter": "python",
   "pygments_lexer": "ipython3",
   "version": "3.12.4"
  }
 },
 "nbformat": 4,
 "nbformat_minor": 5
}
